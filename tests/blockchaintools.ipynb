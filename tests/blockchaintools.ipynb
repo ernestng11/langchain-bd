{
 "cells": [
  {
   "cell_type": "code",
   "execution_count": 1,
   "id": "8d550547-2fd9-4b9b-8fc9-805fbb692821",
   "metadata": {},
   "outputs": [
    {
     "name": "stdout",
     "output_type": "stream",
     "text": [
      "Current directory: /Users/ernest/Desktop/Developer/langchain-bd/tests\n",
      "Project root: /Users/ernest/Desktop/Developer/langchain-bd\n",
      "Added to path: /Users/ernest/Desktop/Developer/langchain-bd\n",
      "sys.path now includes: /opt/homebrew/Cellar/python@3.13/3.13.5/Frameworks/Python.framework/Versions/3.13/lib/python313.zip\n"
     ]
    }
   ],
   "source": [
    "# Setup path to import from src directory\n",
    "import sys\n",
    "import os\n",
    "from pathlib import Path\n",
    "\n",
    "# Get the current notebook's directory (tests/)\n",
    "notebook_dir = Path.cwd()\n",
    "print(f\"Current directory: {notebook_dir}\")\n",
    "\n",
    "# Go up one level to get project root\n",
    "project_root = notebook_dir.parent\n",
    "print(f\"Project root: {project_root}\")\n",
    "\n",
    "# Add src to Python path\n",
    "src_path = project_root\n",
    "if str(src_path) not in sys.path:\n",
    "    sys.path.insert(0, str(src_path))\n",
    "    \n",
    "print(f\"Added to path: {src_path}\")\n",
    "print(f\"sys.path now includes: {sys.path[0]}\")\n"
   ]
  },
  {
   "cell_type": "code",
   "execution_count": 2,
   "id": "b564afd0-32ec-4b2e-98f6-462afcc2ffe2",
   "metadata": {},
   "outputs": [
    {
     "name": "stdout",
     "output_type": "stream",
     "text": [
      "Available tools: ['available_blockchains_tool', 'available_timeframes_tool', 'categories_by_gas_fees_tool', 'get_latest_growthepie_datasets_tool', 'tool', 'top_contracts_by_gas_fees_tool']\n"
     ]
    }
   ],
   "source": [
    "# Now you can import from src\n",
    "from src.tools import blockchain_tools\n",
    "\n",
    "print(f\"Available tools: {[attr for attr in dir(blockchain_tools) if 'tool' in attr]}\")"
   ]
  },
  {
   "cell_type": "code",
   "execution_count": null,
   "id": "09a9f274-e225-4cf9-97b2-1636258b0c11",
   "metadata": {},
   "outputs": [],
   "source": [
    "def categories_by_gas_fees_tool(blockchain_name: str, timeframe: str = \"7d\") -> dict:\n",
    "    \"\"\"\n",
    "    Gets categories by gas fees share data for specified blockchain networks from GrowThePie.\n",
    "    Returns a dict with summary and data or error.\n",
    "    \"\"\"\n",
    "    try:\n",
    "        json_path = \"src/data/inspect_blockspace.json\"\n",
    "        available_blockchains = get_available_blockchains(json_file_path=json_path)\n",
    "        if blockchain_name.lower() not in [bc.lower() for bc in available_blockchains]:\n",
    "            return {\"error\": f\"Blockchain '{blockchain_name}' not supported.\", \"available_blockchains\": available_blockchains}\n",
    "        valid_timeframes = [\"1d\", \"7d\", \"30d\"]\n",
    "        if timeframe not in valid_timeframes:\n",
    "            return {\"error\": f\"Timeframe '{timeframe}' not supported.\", \"valid_timeframes\": valid_timeframes}\n",
    "        df = get_categories_by_gas_fees_share(blockchain_name.lower(), timeframe, json_file_path=json_path)\n",
    "        categories = df.to_dict(orient=\"records\")\n",
    "        # Compute summary fields\n",
    "        if not categories:\n",
    "            return {\"error\": \"No category data found.\"}\n",
    "        # Sort by gas_fees_share_usd descending\n",
    "        sorted_cats = sorted(categories, key=lambda x: x.get(\"gas_fees_share_usd\", 0), reverse=True)\n",
    "        top_category = sorted_cats[0][\"category\"]\n",
    "        top_category_share = sorted_cats[0][\"gas_fees_share_usd\"]\n",
    "        category_breakdown = {cat[\"category\"]: cat[\"gas_fees_share_usd\"] for cat in categories}\n",
    "        total_gas_fees_usd = sum(cat.get(\"gas_fees_usd_absolute\", 0) for cat in categories)\n",
    "        category_concentration = sum(cat.get(\"gas_fees_share_usd\", 0) for cat in sorted_cats[:3])\n",
    "        return {\n",
    "            \"blockchain\": blockchain_name,\n",
    "            \"timeframe\": timeframe,\n",
    "            \"top_category\": top_category,\n",
    "            \"top_category_share\": top_category_share,\n",
    "            \"category_breakdown\": category_breakdown,\n",
    "            \"total_gas_fees_usd\": total_gas_fees_usd,\n",
    "            \"category_concentration\": category_concentration,\n",
    "            \"categories\": categories,\n",
    "            \"columns\": list(df.columns),\n",
    "            \"error\": None\n",
    "        }\n",
    "    except Exception as e:\n",
    "        return {\"error\": str(e)}"
   ]
  },
  {
   "cell_type": "code",
   "execution_count": 3,
   "id": "6fb914cb-c6b9-42ea-8b23-c63d4c1d54d1",
   "metadata": {},
   "outputs": [
    {
     "data": {
      "text/plain": [
       "{'error': \"[Errno 2] No such file or directory: 'src/data/inspect_blockspace.json'\"}"
      ]
     },
     "execution_count": 3,
     "metadata": {},
     "output_type": "execute_result"
    }
   ],
   "source": [
    "blockchain_tools.categories_by_gas_fees_tool.invoke({\"blockchain_name\": \"mantle\", \"timeframe\": \"7d\"})"
   ]
  },
  {
   "cell_type": "code",
   "execution_count": null,
   "id": "a267a9f4-4ac6-4101-990b-39a72a200a25",
   "metadata": {},
   "outputs": [],
   "source": [
    "def test_categories_by_gas_fees_tool():\n",
    "    result = blockchain_tools.categories_by_gas_fees_tool.invoke({\"blockchain_name\": \"mantle\", \"timeframe\": \"7d\"})\n",
    "    print(\"categories_by_gas_fees_tool result:\", result)\n",
    "    assert isinstance(result, dict)\n",
    "    assert result[\"error\"] is None\n",
    "    assert \"categories\" in result\n",
    "    assert isinstance(result[\"categories\"], list)\n",
    "    print(\"test_categories_by_gas_fees_tool passed.\")"
   ]
  },
  {
   "cell_type": "code",
   "execution_count": null,
   "id": "26f58123-4b8a-43c0-b6b2-94dcc0df56a2",
   "metadata": {},
   "outputs": [],
   "source": [
    "test_categories_by_gas_fees_tool()"
   ]
  },
  {
   "cell_type": "code",
   "execution_count": null,
   "id": "aabf7158-f2b6-4276-ada4-7b0aa6de4dd3",
   "metadata": {},
   "outputs": [],
   "source": []
  }
 ],
 "metadata": {
  "kernelspec": {
   "display_name": "Python (langchain-bd)",
   "language": "python",
   "name": "langchain-bd"
  },
  "language_info": {
   "codemirror_mode": {
    "name": "ipython",
    "version": 3
   },
   "file_extension": ".py",
   "mimetype": "text/x-python",
   "name": "python",
   "nbconvert_exporter": "python",
   "pygments_lexer": "ipython3",
   "version": "3.13.5"
  }
 },
 "nbformat": 4,
 "nbformat_minor": 5
}
